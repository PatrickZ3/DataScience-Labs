{
 "cells": [
  {
   "cell_type": "code",
   "execution_count": 9,
   "metadata": {},
   "outputs": [
    {
     "name": "stdout",
     "output_type": "stream",
     "text": [
      "Predicted OR for: [0 0] -> [0]\n",
      "Predicted OR for: [0 1] -> [1]\n",
      "Predicted OR for: [1 0] -> [1]\n",
      "Predicted OR for: [1 1] -> [1]\n"
     ]
    }
   ],
   "source": [
    "#OR function\n",
    "import numpy as np\n",
    "from sklearn.linear_model import Perceptron\n",
    "x = np.array([[0,0],[0,1],[1,0],[1,1]])\n",
    "y = np.array([0,1,1,1])\n",
    "clf = Perceptron(tol=1e-3, random_state=0)\n",
    "clf.fit(x,y)\n",
    "for i in x:\n",
    "    c = clf.predict([i])\n",
    "    print(f\"Predicted OR for: {i} -> {c}\")"
   ]
  },
  {
   "cell_type": "code",
   "execution_count": 7,
   "metadata": {},
   "outputs": [
    {
     "name": "stdout",
     "output_type": "stream",
     "text": [
      "Predicted AND for: [0 0] -> [0]\n",
      "Predicted AND for: [0 1] -> [0]\n",
      "Predicted AND for: [1 0] -> [0]\n",
      "Predicted AND for: [1 1] -> [1]\n"
     ]
    }
   ],
   "source": [
    "#AND function\n",
    "import numpy as np\n",
    "from sklearn.linear_model import Perceptron\n",
    "x = np.array([[0,0],[0,1],[1,0],[1,1]])\n",
    "y = np.array([0,0,0,1])\n",
    "clf = Perceptron(tol=1e-3, random_state=0)\n",
    "clf.fit(x,y)\n",
    "for i in x:\n",
    "    c = clf.predict([i])\n",
    "    print(f\"Predicted AND for: {i} -> {c}\")"
   ]
  }
 ],
 "metadata": {
  "kernelspec": {
   "display_name": "Python 3.9.13 64-bit (microsoft store)",
   "language": "python",
   "name": "python3"
  },
  "language_info": {
   "codemirror_mode": {
    "name": "ipython",
    "version": 3
   },
   "file_extension": ".py",
   "mimetype": "text/x-python",
   "name": "python",
   "nbconvert_exporter": "python",
   "pygments_lexer": "ipython3",
   "version": "3.9.13"
  },
  "orig_nbformat": 4,
  "vscode": {
   "interpreter": {
    "hash": "ea9199e1b37051b703ac96ac980aca3ddba8fdbab76c2328049fb13708363c6a"
   }
  }
 },
 "nbformat": 4,
 "nbformat_minor": 2
}
