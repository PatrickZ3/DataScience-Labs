{
 "cells": [
  {
   "cell_type": "markdown",
   "id": "weird-recovery",
   "metadata": {},
   "source": [
    "# Assignment-2: Statistics and Probability Distribution\n",
    "\n",
    "Make a copy of `Assignment-2-Statistics and Probability Distributions.ipynb` python notebook and rename it to `Assignment-2-<YOUR_NAME>`. Read the exercises provided in the given python notebook. Write and execute your solution in the respective code shell. Submit your python notebook after completing all the exercises.\n",
    "\n",
    "Total Marks: **8**\n",
    "\n",
    "### HINT\n",
    "- Use `numpy` python library to find mean, median and standard deviation for the given sequence of numbers\n",
    "- Use `matplotlib` python library to plot the histogram \n",
    "\n",
    "### Excercise-1 ( 1 Mark)\n",
    "John tracked his lunch bills for the past 5 days. He paid `$15.10, $12.05, $20.05, $17.75 and $16.25`. What was the average amount John paid per meal?  Print the result with 2 decimal places.      "
   ]
  },
  {
   "cell_type": "code",
   "execution_count": 6,
   "id": "fuzzy-shoot",
   "metadata": {},
   "outputs": [
    {
     "name": "stdout",
     "output_type": "stream",
     "text": [
      "Average amount john paid per meal 16.24\n"
     ]
    }
   ],
   "source": [
    "### Your solution goes here\n",
    "bills =[15.10, 12.05, 20.05, 17.75, 16.25]\n",
    "total = 0\n",
    "a = 0\n",
    "\n",
    "for m in bills:\n",
    "    total += m\n",
    "    a += 1\n",
    "\n",
    "average = total / a\n",
    "\n",
    "print(\"Average amount john paid per meal \" + str(round (average,2)))"
   ]
  },
  {
   "cell_type": "markdown",
   "id": "floating-regard",
   "metadata": {},
   "source": [
    "### Excercise-2 ( 1 Mark)\n",
    "\n",
    "Mark received the following scores in his `Graphic Design` tests. His final grade is based on the mean of those scores. What will be John's final grade in that course? Print the result with 0 decimal places.\n",
    "\n",
    "77, 84, 89, 78, 92\n"
   ]
  },
  {
   "cell_type": "code",
   "execution_count": 5,
   "id": "apparent-immune",
   "metadata": {},
   "outputs": [
    {
     "name": "stdout",
     "output_type": "stream",
     "text": [
      "John's final grade will be  87\n"
     ]
    }
   ],
   "source": [
    "### Your solution goes here\n",
    "scores =[77, 99, 89, 78, 92]\n",
    "total = 0\n",
    "a = 0\n",
    "\n",
    "for s in scores:\n",
    "    total += s\n",
    "    a += 1\n",
    "\n",
    "average = total / a\n",
    "\n",
    "print(\"John's final grade will be  \" + str(int(average)))"
   ]
  },
  {
   "cell_type": "markdown",
   "id": "waiting-america",
   "metadata": {},
   "source": [
    "### Excercise-3 ( 1 Mark)\n",
    "Find the median and standard deviation for the set of numbers given in Excercise 1 and 2"
   ]
  },
  {
   "cell_type": "code",
   "execution_count": 4,
   "id": "pending-employer",
   "metadata": {},
   "outputs": [
    {
     "data": {
      "text/plain": [
       "84.0"
      ]
     },
     "execution_count": 4,
     "metadata": {},
     "output_type": "execute_result"
    }
   ],
   "source": [
    "### Your solution goes here\n",
    "import numpy as np\n",
    "numbers1 = np.array([15.10, 12.05, 20.05, 17.75, 16.25])\n",
    "numbers2 = np.array([77, 84, 89, 78, 92])\n",
    "\n",
    "np.std(numbers1)\n",
    "np.std(numbers2)\n",
    "\n",
    "np.median(numbers1)\n",
    "np.median(numbers2)\n"
   ]
  },
  {
   "cell_type": "markdown",
   "id": "suburban-gossip",
   "metadata": {},
   "source": [
    "### Excercise-4 ( 3 Marks)\n",
    "#### 4.1) Plot a histogram for the given below age of population with respect to bin.\n",
    "\n",
    "| Population Age | 22,55,62,45,18,21,22,16,34,42,42,4,2,102,42,95,85,55,110,14,50,120,70,65,55,111,115,80,75,65,54,44,43,42,48  |\n",
    "| ---------------|--------------------------------------------------------------------------------------------------------------|\n",
    "| Bin            | 0-10 10-20 30-40 40-50 50-60 60-70 70-80 80-90 90-100 100-110                                                |\n",
    "\n",
    "#### 4.2) Change the bin interval to 50 and replot the histogram\n",
    "#### 4.3) Which age group has more number of people?"
   ]
  },
  {
   "cell_type": "code",
   "execution_count": 2,
   "id": "demonstrated-expert",
   "metadata": {},
   "outputs": [
    {
     "data": {
      "image/png": "[encoded data removed]",
      "text/plain": [
       "<Figure size 640x480 with 1 Axes>"
      ]
     },
     "metadata": {},
     "output_type": "display_data"
    }
   ],
   "source": [
    "### Your solution goes here\n",
    "import matplotlib.pyplot as plt\n",
    "import numpy as np\n",
    "\n",
    "plt.hist([22,55,62,45,18,21,22,16,34,42,42,4,2,102,42,95,85,55,110,14,50,120,70,65,55,111,115,80,75,65,54,44,43,42,48], 10)\n",
    "plt.show() "
   ]
  },
  {
   "cell_type": "code",
   "execution_count": 3,
   "id": "8232a2bf-d9fd-4f49-88fe-d31532b08de7",
   "metadata": {},
   "outputs": [
    {
     "data": {
      "image/png": "[encoded data removed]",
      "text/plain": [
       "<Figure size 640x480 with 1 Axes>"
      ]
     },
     "metadata": {},
     "output_type": "display_data"
    }
   ],
   "source": [
    "### Your solution goes here\n",
    "import matplotlib.pyplot as plt\n",
    "import numpy as np\n",
    "\n",
    "plt.hist([22,55,62,45,18,21,22,16,34,42,42,4,2,102,42,95,85,55,110,14,50,120,70,65,55,111,115,80,75,65,54,44,43,42,48], 50)\n",
    "plt.show()"
   ]
  },
  {
   "cell_type": "markdown",
   "id": "hired-trout",
   "metadata": {},
   "source": [
    "### Excercise-5 ( 1 Mark)\n",
    "Plot a cumulative distributive function (CDF) for the data given in excercise-4.1"
   ]
  },
  {
   "cell_type": "code",
   "execution_count": 5,
   "id": "funky-compiler",
   "metadata": {},
   "outputs": [],
   "source": [
    "### Your solution goes here"
   ]
  },
  {
   "cell_type": "markdown",
   "id": "south-oxygen",
   "metadata": {},
   "source": [
    "### Excercise-6 ( 1 Mark)\n",
    "Using `linespace` method from `numpy` library create *200* sample data between the interval *1 and 50*. Plot the **normal distribution** using `matplotlib` library for the sample data."
   ]
  },
  {
   "cell_type": "code",
   "execution_count": 6,
   "id": "meaningful-madagascar",
   "metadata": {},
   "outputs": [],
   "source": [
    "### Your solution goes here"
   ]
  }
 ],
 "metadata": {
  "kernelspec": {
   "display_name": "Python 3 (ipykernel)",
   "language": "python",
   "name": "python3"
  },
  "language_info": {
   "codemirror_mode": {
    "name": "ipython",
    "version": 3
   },
   "file_extension": ".py",
   "mimetype": "text/x-python",
   "name": "python",
   "nbconvert_exporter": "python",
   "pygments_lexer": "ipython3",
   "version": "3.9.13"
  }
 },
 "nbformat": 4,
 "nbformat_minor": 5
}
