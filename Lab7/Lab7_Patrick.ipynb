{
 "cells": [
  {
   "cell_type": "raw",
   "id": "a8fe77b4-4b83-4992-8611-d5adc85e3622",
   "metadata": {},
   "source": [
    "Question 1:\n",
    "1.1) In SVM, the margin is the distance between the line separating the input variable space by their class (hyperblane), and the closest data points.\n",
    "Given the maximal-margin equation wT * x + b = 0, the equation of the margin hyperplane H+ is wT * x + b = 1, and he equation of the margin hyperplane H- is wT * x + b = -1.\n",
    "\n",
    "1.2) h(X) = wT * x + b = 0, where x = (x1, x2)\n",
    "          = w1x1 + w2x2 + b = 0\n",
    "          rewrite as x2 = -(w1/w2)x1 - (b/w2)\n",
    "          w1/w2 = (2 - 0)/(0 - 2) = -1/1\n",
    "          => b = x1 - x2, pick point (2, 0) to compute offset b\n",
    "          b = 2\n",
    "          \n",
    "          Therefore, the linear SVM that separates the classes by maximizing the margin is h(X) = -X + 2 = 0\n",
    "          \n",
    "1.3) The kernel determines the distance measure between new data and the support vectors. The kernel function is used to map input instances to a new feature space. The kernel must be equivalent to a sum of multiplications (inner product) in some feature space, in order for the kernel function to be applied."
   ]
  }
 ],
 "metadata": {
  "kernelspec": {
   "display_name": "Python 3 (ipykernel)",
   "language": "python",
   "name": "python3"
  },
  "language_info": {
   "codemirror_mode": {
    "name": "ipython",
    "version": 3
   },
   "file_extension": ".py",
   "mimetype": "text/x-python",
   "name": "python",
   "nbconvert_exporter": "python",
   "pygments_lexer": "ipython3",
   "version": "3.9.13"
  }
 },
 "nbformat": 4,
 "nbformat_minor": 5
}
