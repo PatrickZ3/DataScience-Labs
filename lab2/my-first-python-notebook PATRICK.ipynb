{
 "cells": [
  {
   "cell_type": "code",
   "execution_count": 1,
   "id": "accfa26c-8fb5-41df-a886-ba862cb45bcd",
   "metadata": {},
   "outputs": [
    {
     "name": "stdout",
     "output_type": "stream",
     "text": [
      "Welcome to DataScience\n"
     ]
    }
   ],
   "source": [
    "print(\"Welcome to DataScience\")"
   ]
  },
  {
   "cell_type": "code",
   "execution_count": null,
   "id": "512a0906-1337-4c37-9dfd-903c1199312e",
   "metadata": {},
   "outputs": [],
   "source": []
  }
 ],
 "metadata": {
  "kernelspec": {
   "display_name": "Python 3 (ipykernel)",
   "language": "python",
   "name": "python3"
  },
  "language_info": {
   "codemirror_mode": {
    "name": "ipython",
    "version": 3
   },
   "file_extension": ".py",
   "mimetype": "text/x-python",
   "name": "python",
   "nbconvert_exporter": "python",
   "pygments_lexer": "ipython3",
   "version": "3.9.13"
  }
 },
 "nbformat": 4,
 "nbformat_minor": 5
}
